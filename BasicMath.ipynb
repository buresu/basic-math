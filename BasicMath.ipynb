{
 "cells": [
  {
   "cell_type": "code",
   "execution_count": 4,
   "id": "a52345ea-ebb4-4fe6-88a0-fff320d73343",
   "metadata": {},
   "outputs": [
    {
     "data": {
      "text/plain": [
       "1"
      ]
     },
     "execution_count": 4,
     "metadata": {},
     "output_type": "execute_result"
    }
   ],
   "source": [
    "# Integer\n",
    "1\n",
    "int(1.0)"
   ]
  },
  {
   "cell_type": "code",
   "execution_count": 5,
   "id": "0c8916f2-9a8d-4995-8363-d310925792ae",
   "metadata": {},
   "outputs": [
    {
     "data": {
      "text/plain": [
       "1.0"
      ]
     },
     "execution_count": 5,
     "metadata": {},
     "output_type": "execute_result"
    }
   ],
   "source": [
    "# Float\n",
    "1.0\n",
    "float(1)"
   ]
  },
  {
   "cell_type": "code",
   "execution_count": 6,
   "id": "e9c4e28e-d364-43d6-87b8-431cfd1a6afe",
   "metadata": {},
   "outputs": [
    {
     "data": {
      "text/plain": [
       "True"
      ]
     },
     "execution_count": 6,
     "metadata": {},
     "output_type": "execute_result"
    }
   ],
   "source": [
    "# True\n",
    "True"
   ]
  },
  {
   "cell_type": "code",
   "execution_count": 7,
   "id": "fcf2d8b0-df73-4541-a92a-ef1c77d04285",
   "metadata": {},
   "outputs": [
    {
     "data": {
      "text/plain": [
       "False"
      ]
     },
     "execution_count": 7,
     "metadata": {},
     "output_type": "execute_result"
    }
   ],
   "source": [
    "# False\n",
    "False"
   ]
  },
  {
   "cell_type": "code",
   "execution_count": 1,
   "id": "d8929e11-ca6d-4c99-9e65-bc466c33b6f6",
   "metadata": {},
   "outputs": [
    {
     "data": {
      "text/plain": [
       "True"
      ]
     },
     "execution_count": 1,
     "metadata": {},
     "output_type": "execute_result"
    }
   ],
   "source": [
    "# Equal\n",
    "1 == 1"
   ]
  },
  {
   "cell_type": "code",
   "execution_count": 2,
   "id": "9cdf6b5c-0318-4a1e-a041-2deaba9477db",
   "metadata": {},
   "outputs": [
    {
     "data": {
      "text/plain": [
       "True"
      ]
     },
     "execution_count": 2,
     "metadata": {},
     "output_type": "execute_result"
    }
   ],
   "source": [
    "# Not equal\n",
    "1 != 2"
   ]
  },
  {
   "cell_type": "code",
   "execution_count": 3,
   "id": "ab761917-3019-4dd4-bf29-eb4c60951cc8",
   "metadata": {},
   "outputs": [
    {
     "data": {
      "text/plain": [
       "1"
      ]
     },
     "execution_count": 3,
     "metadata": {},
     "output_type": "execute_result"
    }
   ],
   "source": [
    "# Assign\n",
    "a = 1\n",
    "a"
   ]
  },
  {
   "cell_type": "code",
   "execution_count": 4,
   "id": "78c7db35-a982-481c-9684-779b694c47a7",
   "metadata": {},
   "outputs": [
    {
     "data": {
      "text/plain": [
       "True"
      ]
     },
     "execution_count": 4,
     "metadata": {},
     "output_type": "execute_result"
    }
   ],
   "source": [
    "# Approximation\n",
    "import sys\n",
    "0.0 < sys.float_info.epsilon"
   ]
  },
  {
   "cell_type": "code",
   "execution_count": 5,
   "id": "e4eac23f-5e5a-48ab-b6e4-b5c241836773",
   "metadata": {},
   "outputs": [
    {
     "data": {
      "text/plain": [
       "True"
      ]
     },
     "execution_count": 5,
     "metadata": {},
     "output_type": "execute_result"
    }
   ],
   "source": [
    "# Comparison over than\n",
    "2 > 1"
   ]
  },
  {
   "cell_type": "code",
   "execution_count": 6,
   "id": "98208b6c-d71e-4fe9-8650-c6f9602bbc68",
   "metadata": {},
   "outputs": [
    {
     "data": {
      "text/plain": [
       "True"
      ]
     },
     "execution_count": 6,
     "metadata": {},
     "output_type": "execute_result"
    }
   ],
   "source": [
    "# Comparison less than\n",
    "1 < 2"
   ]
  },
  {
   "cell_type": "code",
   "execution_count": 7,
   "id": "05f835d2-97c3-4a5b-a67b-0bb5d80561b8",
   "metadata": {},
   "outputs": [
    {
     "data": {
      "text/plain": [
       "True"
      ]
     },
     "execution_count": 7,
     "metadata": {},
     "output_type": "execute_result"
    }
   ],
   "source": [
    "# Comparison over\n",
    "2 >= 1"
   ]
  },
  {
   "cell_type": "code",
   "execution_count": 9,
   "id": "467c2397-c1b4-4378-ad59-443148592841",
   "metadata": {},
   "outputs": [
    {
     "data": {
      "text/plain": [
       "True"
      ]
     },
     "execution_count": 9,
     "metadata": {},
     "output_type": "execute_result"
    }
   ],
   "source": [
    "# Comparison less\n",
    "1 <= 2"
   ]
  },
  {
   "cell_type": "code",
   "execution_count": 10,
   "id": "bd40a1c3-4bc6-468a-885e-6ad463555f93",
   "metadata": {},
   "outputs": [
    {
     "data": {
      "text/plain": [
       "3"
      ]
     },
     "execution_count": 10,
     "metadata": {},
     "output_type": "execute_result"
    }
   ],
   "source": [
    "# Addition\n",
    "1 + 2"
   ]
  },
  {
   "cell_type": "code",
   "execution_count": 11,
   "id": "c3e1f916-3426-40e0-b394-f4f47e460ed5",
   "metadata": {},
   "outputs": [
    {
     "data": {
      "text/plain": [
       "-1"
      ]
     },
     "execution_count": 11,
     "metadata": {},
     "output_type": "execute_result"
    }
   ],
   "source": [
    "# Subtraction\n",
    "1 - 2"
   ]
  },
  {
   "cell_type": "code",
   "execution_count": 12,
   "id": "b75b8452-20dc-4a26-9942-d8204920bd97",
   "metadata": {},
   "outputs": [
    {
     "data": {
      "text/plain": [
       "2"
      ]
     },
     "execution_count": 12,
     "metadata": {},
     "output_type": "execute_result"
    }
   ],
   "source": [
    "# Multiply\n",
    "1 * 2"
   ]
  },
  {
   "cell_type": "code",
   "execution_count": 13,
   "id": "e4235eae-3219-4026-8acb-55799c9f1360",
   "metadata": {},
   "outputs": [
    {
     "data": {
      "text/plain": [
       "0.5"
      ]
     },
     "execution_count": 13,
     "metadata": {},
     "output_type": "execute_result"
    }
   ],
   "source": [
    "# Division\n",
    "1 / 2"
   ]
  },
  {
   "cell_type": "code",
   "execution_count": 14,
   "id": "520be04b-0bf9-4ea3-a206-9e66e5214e61",
   "metadata": {},
   "outputs": [
    {
     "data": {
      "text/plain": [
       "1"
      ]
     },
     "execution_count": 14,
     "metadata": {},
     "output_type": "execute_result"
    }
   ],
   "source": [
    "# Remainder\n",
    "1 % 2"
   ]
  },
  {
   "cell_type": "code",
   "execution_count": 39,
   "id": "2a3951ab-28d4-491d-ba6a-0ce81f704ecd",
   "metadata": {},
   "outputs": [
    {
     "name": "stdout",
     "output_type": "stream",
     "text": [
      "1\n"
     ]
    }
   ],
   "source": [
    "# Case\n",
    "if False:\n",
    "    print(0)\n",
    "else:\n",
    "    print(1)"
   ]
  },
  {
   "cell_type": "code",
   "execution_count": 18,
   "id": "0812d1d4-5e5e-43bf-af60-b09bb814eef6",
   "metadata": {},
   "outputs": [
    {
     "data": {
      "text/plain": [
       "5"
      ]
     },
     "execution_count": 18,
     "metadata": {},
     "output_type": "execute_result"
    }
   ],
   "source": [
    "# Maximum\n",
    "a = [1, 2, 3, 4, 5]\n",
    "max(a)"
   ]
  },
  {
   "cell_type": "code",
   "execution_count": 19,
   "id": "26177476-9d82-42ff-90bd-c6818dce3388",
   "metadata": {},
   "outputs": [
    {
     "data": {
      "text/plain": [
       "1"
      ]
     },
     "execution_count": 19,
     "metadata": {},
     "output_type": "execute_result"
    }
   ],
   "source": [
    "# Minimum\n",
    "a = [1, 2, 3, 4, 5]\n",
    "min(a)"
   ]
  },
  {
   "cell_type": "code",
   "execution_count": 20,
   "id": "8a786e65-e178-49af-9bbf-4cf05018d66c",
   "metadata": {},
   "outputs": [
    {
     "data": {
      "text/plain": [
       "1"
      ]
     },
     "execution_count": 20,
     "metadata": {},
     "output_type": "execute_result"
    }
   ],
   "source": [
    "# Absolute\n",
    "abs(-1)"
   ]
  },
  {
   "cell_type": "code",
   "execution_count": 27,
   "id": "0d6724de-5c33-4701-9420-405f4b3a0056",
   "metadata": {},
   "outputs": [
    {
     "data": {
      "text/plain": [
       "True"
      ]
     },
     "execution_count": 27,
     "metadata": {},
     "output_type": "execute_result"
    }
   ],
   "source": [
    "# Element\n",
    "a = [1, 2, 3, 4, 5]\n",
    "1 in a"
   ]
  },
  {
   "cell_type": "code",
   "execution_count": 28,
   "id": "8475d534-5d12-4afd-a70f-174aae03f5df",
   "metadata": {},
   "outputs": [
    {
     "data": {
      "text/plain": [
       "True"
      ]
     },
     "execution_count": 28,
     "metadata": {},
     "output_type": "execute_result"
    }
   ],
   "source": [
    "# Part\n",
    "a = [1, 2]\n",
    "b = [1, 2, 3, 4, 5]\n",
    "set(a) <= set(b)"
   ]
  },
  {
   "cell_type": "code",
   "execution_count": 29,
   "id": "b2817b7c-3683-4e0d-9018-034bcc07656c",
   "metadata": {},
   "outputs": [
    {
     "data": {
      "text/plain": [
       "[1, 2, 3, 4, 5, 6, 7, 8]"
      ]
     },
     "execution_count": 29,
     "metadata": {},
     "output_type": "execute_result"
    }
   ],
   "source": [
    "# Union\n",
    "a = [1, 2, 3, 4, 5]\n",
    "b = [4, 5, 6, 7, 8]\n",
    "list(set(a) | set(b))"
   ]
  },
  {
   "cell_type": "code",
   "execution_count": 30,
   "id": "203728b3-fda1-44e5-91c2-be6b322bd425",
   "metadata": {},
   "outputs": [
    {
     "data": {
      "text/plain": [
       "[4, 5]"
      ]
     },
     "execution_count": 30,
     "metadata": {},
     "output_type": "execute_result"
    }
   ],
   "source": [
    "# Common\n",
    "a = [1, 2, 3, 4, 5]\n",
    "b = [4, 5, 6, 7, 8]\n",
    "list(set(a) & set(b))"
   ]
  },
  {
   "cell_type": "code",
   "execution_count": 31,
   "id": "9f32d4f4-b2f4-4868-baf8-bb9d1a75f0cc",
   "metadata": {},
   "outputs": [
    {
     "data": {
      "text/plain": [
       "[1, 2, 3]"
      ]
     },
     "execution_count": 31,
     "metadata": {},
     "output_type": "execute_result"
    }
   ],
   "source": [
    "# Difference\n",
    "a = [1, 2, 3, 4, 5]\n",
    "b = [4, 5, 6, 7, 8]\n",
    "list(set(a) - set(b))"
   ]
  },
  {
   "cell_type": "code",
   "execution_count": 32,
   "id": "12d16916-508d-45d9-8213-fd5db9ee4db4",
   "metadata": {},
   "outputs": [
    {
     "data": {
      "text/plain": [
       "[1, 2, 3, 6, 7, 8]"
      ]
     },
     "execution_count": 32,
     "metadata": {},
     "output_type": "execute_result"
    }
   ],
   "source": [
    "# Symmetric difference\n",
    "a = [1, 2, 3, 4, 5]\n",
    "b = [4, 5, 6, 7, 8]\n",
    "list(set(a) ^ set(b))"
   ]
  },
  {
   "cell_type": "code",
   "execution_count": 33,
   "id": "aab9d152-f07d-48b5-bb36-00691535e2e6",
   "metadata": {},
   "outputs": [
    {
     "data": {
      "text/plain": [
       "2"
      ]
     },
     "execution_count": 33,
     "metadata": {},
     "output_type": "execute_result"
    }
   ],
   "source": [
    "# Function\n",
    "def f(x):\n",
    "    return x + 1\n",
    "f(1)"
   ]
  },
  {
   "cell_type": "code",
   "execution_count": 34,
   "id": "429050f2-74f9-4a34-8b39-6a9eb71d8dab",
   "metadata": {},
   "outputs": [
    {
     "data": {
      "text/plain": [
       "15"
      ]
     },
     "execution_count": 34,
     "metadata": {},
     "output_type": "execute_result"
    }
   ],
   "source": [
    "# Sum\n",
    "a = [1, 2, 3, 4, 5]\n",
    "sum(a)"
   ]
  },
  {
   "cell_type": "code",
   "execution_count": 35,
   "id": "a7f27296-5f70-4f07-a9e6-bc1ec0dffc41",
   "metadata": {},
   "outputs": [
    {
     "data": {
      "text/plain": [
       "120"
      ]
     },
     "execution_count": 35,
     "metadata": {},
     "output_type": "execute_result"
    }
   ],
   "source": [
    "# Multiplication\n",
    "import math\n",
    "a = [1, 2, 3, 4, 5]\n",
    "math.prod(a)"
   ]
  },
  {
   "cell_type": "code",
   "execution_count": 36,
   "id": "48794c6b-3e42-4f21-bd69-8cf1dd9ac640",
   "metadata": {},
   "outputs": [
    {
     "data": {
      "text/plain": [
       "120"
      ]
     },
     "execution_count": 36,
     "metadata": {},
     "output_type": "execute_result"
    }
   ],
   "source": [
    "# Factorial\n",
    "import math\n",
    "math.factorial(5)"
   ]
  },
  {
   "cell_type": "code",
   "execution_count": 66,
   "id": "aad0b88e-2638-44cd-867f-9d1d98da433c",
   "metadata": {},
   "outputs": [
    {
     "data": {
      "text/plain": [
       "100"
      ]
     },
     "execution_count": 66,
     "metadata": {},
     "output_type": "execute_result"
    }
   ],
   "source": [
    "# Exponential\n",
    "10 ** 2"
   ]
  },
  {
   "cell_type": "code",
   "execution_count": 42,
   "id": "db8455cb-4e40-44b2-a026-eef049824e30",
   "metadata": {},
   "outputs": [
    {
     "data": {
      "text/plain": [
       "4"
      ]
     },
     "execution_count": 42,
     "metadata": {},
     "output_type": "execute_result"
    }
   ],
   "source": [
    "# Bit shift\n",
    "2 << 1"
   ]
  },
  {
   "cell_type": "code",
   "execution_count": 47,
   "id": "732ce31c-6a64-44ee-9c8f-a2b5ae6fe373",
   "metadata": {},
   "outputs": [
    {
     "data": {
      "text/plain": [
       "2.0"
      ]
     },
     "execution_count": 47,
     "metadata": {},
     "output_type": "execute_result"
    }
   ],
   "source": [
    "# Square root\n",
    "import math\n",
    "math.sqrt(4)"
   ]
  },
  {
   "cell_type": "code",
   "execution_count": 49,
   "id": "64099952-8718-4fa6-9e6e-4c8888f5aa87",
   "metadata": {},
   "outputs": [
    {
     "data": {
      "text/plain": [
       "0.5"
      ]
     },
     "execution_count": 49,
     "metadata": {},
     "output_type": "execute_result"
    }
   ],
   "source": [
    "# Reciprocal\n",
    "2 ** -1"
   ]
  },
  {
   "cell_type": "code",
   "execution_count": 64,
   "id": "c20919b7-4fb1-461e-ad1e-a316c3e83cd8",
   "metadata": {},
   "outputs": [
    {
     "data": {
      "text/plain": [
       "1.0"
      ]
     },
     "execution_count": 64,
     "metadata": {},
     "output_type": "execute_result"
    }
   ],
   "source": [
    "# Logarithm of 2\n",
    "import math\n",
    "math.log2(2)"
   ]
  },
  {
   "cell_type": "code",
   "execution_count": 65,
   "id": "8b630390-4562-4f35-9e11-2878a5cae944",
   "metadata": {},
   "outputs": [
    {
     "data": {
      "text/plain": [
       "1.0"
      ]
     },
     "execution_count": 65,
     "metadata": {},
     "output_type": "execute_result"
    }
   ],
   "source": [
    "# Logarithm of 10\n",
    "import math\n",
    "math.log10(10)"
   ]
  },
  {
   "cell_type": "code",
   "execution_count": 75,
   "id": "5c490170-338a-4b19-9b72-3503a931df12",
   "metadata": {},
   "outputs": [
    {
     "data": {
      "text/plain": [
       "2.718281828459045"
      ]
     },
     "execution_count": 75,
     "metadata": {},
     "output_type": "execute_result"
    }
   ],
   "source": [
    "# Napier\n",
    "import math\n",
    "math.e"
   ]
  },
  {
   "cell_type": "code",
   "execution_count": 53,
   "id": "687fa381-b60d-463a-a4c9-2954f2c040e3",
   "metadata": {},
   "outputs": [
    {
     "data": {
      "text/plain": [
       "2.718281828459045"
      ]
     },
     "execution_count": 53,
     "metadata": {},
     "output_type": "execute_result"
    }
   ],
   "source": [
    "# Exponential of napier\n",
    "import math\n",
    "math.exp(1)"
   ]
  },
  {
   "cell_type": "code",
   "execution_count": 63,
   "id": "0577161a-ff4d-4b24-831f-b9f3d75a1f40",
   "metadata": {
    "tags": []
   },
   "outputs": [
    {
     "data": {
      "text/plain": [
       "0.6931471805599453"
      ]
     },
     "execution_count": 63,
     "metadata": {},
     "output_type": "execute_result"
    }
   ],
   "source": [
    "# Logarithm of napier\n",
    "import math\n",
    "math.log(2)"
   ]
  },
  {
   "cell_type": "code",
   "execution_count": 73,
   "id": "1bc26487-2301-4a96-a8b9-850e8724d842",
   "metadata": {},
   "outputs": [
    {
     "data": {
      "text/plain": [
       "1000.0"
      ]
     },
     "execution_count": 73,
     "metadata": {},
     "output_type": "execute_result"
    }
   ],
   "source": [
    "# Exponential of 10(10^3)\n",
    "1e+3"
   ]
  },
  {
   "cell_type": "code",
   "execution_count": 74,
   "id": "f61f767e-3ac0-4f7f-8ac2-cb1663be0112",
   "metadata": {},
   "outputs": [
    {
     "data": {
      "text/plain": [
       "0.001"
      ]
     },
     "execution_count": 74,
     "metadata": {},
     "output_type": "execute_result"
    }
   ],
   "source": [
    "# Exponential 10(10^-3)\n",
    "1e-3"
   ]
  },
  {
   "cell_type": "code",
   "execution_count": 76,
   "id": "76395fbe-98be-4e05-ac2d-5d67b8c3a6f6",
   "metadata": {},
   "outputs": [
    {
     "data": {
      "text/plain": [
       "3.141592653589793"
      ]
     },
     "execution_count": 76,
     "metadata": {},
     "output_type": "execute_result"
    }
   ],
   "source": [
    "# PI\n",
    "import math\n",
    "math.pi"
   ]
  },
  {
   "cell_type": "code",
   "execution_count": 81,
   "id": "ad83ba35-e398-48e5-97fc-02564be63cda",
   "metadata": {},
   "outputs": [
    {
     "data": {
      "text/plain": [
       "1.0"
      ]
     },
     "execution_count": 81,
     "metadata": {},
     "output_type": "execute_result"
    }
   ],
   "source": [
    "# Sin\n",
    "import math\n",
    "math.sin(math.radians(90))"
   ]
  },
  {
   "cell_type": "code",
   "execution_count": 87,
   "id": "811ebba9-abce-4b36-af9b-0e51ff6d9f7a",
   "metadata": {},
   "outputs": [
    {
     "data": {
      "text/plain": [
       "3.141592653589793"
      ]
     },
     "execution_count": 87,
     "metadata": {},
     "output_type": "execute_result"
    }
   ],
   "source": [
    "# Radians\n",
    "import math\n",
    "math.radians(180)"
   ]
  },
  {
   "cell_type": "code",
   "execution_count": 89,
   "id": "9269e2ce-ba55-4897-a900-e456480abadf",
   "metadata": {},
   "outputs": [
    {
     "data": {
      "text/plain": [
       "180.0"
      ]
     },
     "execution_count": 89,
     "metadata": {},
     "output_type": "execute_result"
    }
   ],
   "source": [
    "# Degrees\n",
    "import math\n",
    "math.degrees(math.pi)"
   ]
  },
  {
   "cell_type": "code",
   "execution_count": 91,
   "id": "68e0c188-500e-4c8b-99ef-dcb8c94cc228",
   "metadata": {},
   "outputs": [
    {
     "data": {
      "text/plain": [
       "1.0"
      ]
     },
     "execution_count": 91,
     "metadata": {},
     "output_type": "execute_result"
    }
   ],
   "source": [
    "# Sine\n",
    "import math\n",
    "math.sin(math.pi/2)"
   ]
  },
  {
   "cell_type": "code",
   "execution_count": 95,
   "id": "82455b86-95ad-4959-a21d-323c27ec7b92",
   "metadata": {},
   "outputs": [
    {
     "data": {
      "text/plain": [
       "-1.0"
      ]
     },
     "execution_count": 95,
     "metadata": {},
     "output_type": "execute_result"
    }
   ],
   "source": [
    "# Cosine\n",
    "import math\n",
    "math.cos(math.pi)"
   ]
  },
  {
   "cell_type": "code",
   "execution_count": 99,
   "id": "cd861cfb-2f92-4ca3-9ecd-cc02961603de",
   "metadata": {},
   "outputs": [
    {
     "data": {
      "text/plain": [
       "0.9999999999999999"
      ]
     },
     "execution_count": 99,
     "metadata": {},
     "output_type": "execute_result"
    }
   ],
   "source": [
    "# Tangent\n",
    "import math\n",
    "math.tan(math.pi/4)"
   ]
  },
  {
   "cell_type": "code",
   "execution_count": 106,
   "id": "ece45a80-e4ce-404f-b8c5-a56c95322995",
   "metadata": {},
   "outputs": [
    {
     "data": {
      "text/plain": [
       "1.5707963267948966"
      ]
     },
     "execution_count": 106,
     "metadata": {},
     "output_type": "execute_result"
    }
   ],
   "source": [
    "# Arc sine\n",
    "import math\n",
    "math.asin(1.0)"
   ]
  },
  {
   "cell_type": "code",
   "execution_count": 108,
   "id": "75f086a6-bf01-4d32-b279-138ecd519556",
   "metadata": {},
   "outputs": [
    {
     "data": {
      "text/plain": [
       "3.141592653589793"
      ]
     },
     "execution_count": 108,
     "metadata": {},
     "output_type": "execute_result"
    }
   ],
   "source": [
    "# Arc cosine\n",
    "import math\n",
    "math.acos(-1.0)"
   ]
  },
  {
   "cell_type": "code",
   "execution_count": 109,
   "id": "c89ae587-d22f-4bc2-9788-5e9e5d60fae3",
   "metadata": {},
   "outputs": [
    {
     "data": {
      "text/plain": [
       "0.7853981633974483"
      ]
     },
     "execution_count": 109,
     "metadata": {},
     "output_type": "execute_result"
    }
   ],
   "source": [
    "# Arc tangent\n",
    "import math\n",
    "math.atan(1.0)"
   ]
  },
  {
   "cell_type": "code",
   "execution_count": 125,
   "id": "f959457d-86dd-46b3-b391-22713f2d0852",
   "metadata": {},
   "outputs": [
    {
     "data": {
      "text/latex": [
       "$\\displaystyle 1$"
      ],
      "text/plain": [
       "1"
      ]
     },
     "execution_count": 125,
     "metadata": {},
     "output_type": "execute_result"
    }
   ],
   "source": [
    "# Limit \n",
    "import sympy\n",
    "sympy.var('x')\n",
    "f = x ** 2 + 1\n",
    "sympy.limit(f, x, 0)"
   ]
  },
  {
   "cell_type": "code",
   "execution_count": 127,
   "id": "bae8ef56-06ce-46e0-97a0-e525025dd3e4",
   "metadata": {},
   "outputs": [
    {
     "data": {
      "text/latex": [
       "$\\displaystyle 2 x$"
      ],
      "text/plain": [
       "2*x"
      ]
     },
     "execution_count": 127,
     "metadata": {},
     "output_type": "execute_result"
    }
   ],
   "source": [
    "# Differential\n",
    "import sympy\n",
    "sympy.var('x')\n",
    "f = x ** 2 + 1\n",
    "sympy.diff(f)"
   ]
  },
  {
   "cell_type": "code",
   "execution_count": 133,
   "id": "fe8e96a9-045c-4c63-96ac-080763a39d01",
   "metadata": {},
   "outputs": [
    {
     "data": {
      "text/latex": [
       "$\\displaystyle 2 x$"
      ],
      "text/plain": [
       "2*x"
      ]
     },
     "execution_count": 133,
     "metadata": {},
     "output_type": "execute_result"
    }
   ],
   "source": [
    "# Partial Differential\n",
    "import sympy\n",
    "sympy.var('x')\n",
    "sympy.var('y')\n",
    "f = x ** 2 + y ** 2 + 1\n",
    "sympy.diff(f, x)"
   ]
  },
  {
   "cell_type": "code",
   "execution_count": 135,
   "id": "be192a1d-91af-4f0b-bf9f-7589d1d607f7",
   "metadata": {},
   "outputs": [
    {
     "data": {
      "text/latex": [
       "$\\displaystyle \\frac{4}{3}$"
      ],
      "text/plain": [
       "4/3"
      ]
     },
     "execution_count": 135,
     "metadata": {},
     "output_type": "execute_result"
    }
   ],
   "source": [
    "# Integral\n",
    "import sympy\n",
    "sympy.var('x')\n",
    "f = x ** 2 + 1\n",
    "sympy.integrate(f, (x, 0, 1))"
   ]
  },
  {
   "cell_type": "code",
   "execution_count": 1,
   "id": "d45c7a2e-3a21-4ece-b866-1b44fd9c6633",
   "metadata": {},
   "outputs": [
    {
     "data": {
      "text/latex": [
       "$\\displaystyle \\frac{x^{3}}{3} + x$"
      ],
      "text/plain": [
       "x**3/3 + x"
      ]
     },
     "execution_count": 1,
     "metadata": {},
     "output_type": "execute_result"
    }
   ],
   "source": [
    "# Integral\n",
    "import sympy\n",
    "sympy.var('x')\n",
    "f = x ** 2 + 1\n",
    "sympy.integrate(f, x)"
   ]
  },
  {
   "cell_type": "code",
   "execution_count": 145,
   "id": "9049263d-c285-4c1b-8d2c-284087655434",
   "metadata": {},
   "outputs": [
    {
     "data": {
      "text/latex": [
       "$\\displaystyle \\frac{x y^{3}}{3} + y \\left(\\frac{x^{3}}{3} + x\\right)$"
      ],
      "text/plain": [
       "x*y**3/3 + y*(x**3/3 + x)"
      ]
     },
     "execution_count": 145,
     "metadata": {},
     "output_type": "execute_result"
    }
   ],
   "source": [
    "# Integral\n",
    "import sympy\n",
    "sympy.var('x')\n",
    "sympy.var('y')\n",
    "f = x ** 2 + y ** 2 + 1\n",
    "sympy.integrate(f, x, y)"
   ]
  },
  {
   "cell_type": "code",
   "execution_count": 146,
   "id": "718c6992-f0ab-449c-a2a3-954cfe3caad7",
   "metadata": {},
   "outputs": [
    {
     "data": {
      "text/latex": [
       "$\\displaystyle \\frac{x y z^{3}}{3} + z \\left(\\frac{x^{3} y}{3} + \\frac{x y^{3}}{3} + x y\\right)$"
      ],
      "text/plain": [
       "x*y*z**3/3 + z*(x**3*y/3 + x*y**3/3 + x*y)"
      ]
     },
     "execution_count": 146,
     "metadata": {},
     "output_type": "execute_result"
    }
   ],
   "source": [
    "# Integral\n",
    "import sympy\n",
    "sympy.var('x')\n",
    "sympy.var('y')\n",
    "sympy.var('z')\n",
    "f = x ** 2 + y ** 2 + z ** 2 + 1\n",
    "sympy.integrate(f, x, y, z)"
   ]
  },
  {
   "cell_type": "code",
   "execution_count": 147,
   "id": "cba24c1b-3b74-48f6-9b3a-38b8fc15ae8e",
   "metadata": {},
   "outputs": [
    {
     "data": {
      "text/latex": [
       "$\\displaystyle \\frac{x^{2} y^{2}}{4}$"
      ],
      "text/plain": [
       "x**2*y**2/4"
      ]
     },
     "execution_count": 147,
     "metadata": {},
     "output_type": "execute_result"
    }
   ],
   "source": [
    "# Integral\n",
    "import sympy\n",
    "sympy.var('x')\n",
    "sympy.var('y')\n",
    "f = x * y\n",
    "sympy.integrate(f, x, y)"
   ]
  },
  {
   "cell_type": "code",
   "execution_count": 6,
   "id": "4a54cb7f-601f-4ec9-8ef6-f10632996706",
   "metadata": {},
   "outputs": [
    {
     "data": {
      "text/plain": [
       "1.0"
      ]
     },
     "execution_count": 6,
     "metadata": {},
     "output_type": "execute_result"
    }
   ],
   "source": [
    "# Scalar\n",
    "1.0"
   ]
  },
  {
   "cell_type": "code",
   "execution_count": 5,
   "id": "ba30a2cc-eda9-48ec-92fd-f905549f4cfb",
   "metadata": {},
   "outputs": [
    {
     "data": {
      "text/plain": [
       "array([1., 1., 1.])"
      ]
     },
     "execution_count": 5,
     "metadata": {},
     "output_type": "execute_result"
    }
   ],
   "source": [
    "# Vector\n",
    "import numpy as np\n",
    "v = np.array([1.0, 1.0, 1.0])\n",
    "v"
   ]
  },
  {
   "cell_type": "code",
   "execution_count": 14,
   "id": "b7d77ed7-3632-4ec7-92af-ad15645b5b1f",
   "metadata": {},
   "outputs": [
    {
     "data": {
      "text/plain": [
       "array([1., 1., 0.])"
      ]
     },
     "execution_count": 14,
     "metadata": {},
     "output_type": "execute_result"
    }
   ],
   "source": [
    "# Vector add\n",
    "import numpy as np\n",
    "a = np.array([1.0, 0.0, 0.0])\n",
    "b = np.array([0.0, 1.0, 0.0])\n",
    "a + b"
   ]
  },
  {
   "cell_type": "code",
   "execution_count": 15,
   "id": "eba824f8-6832-4d6c-990d-5aa7503c0cb9",
   "metadata": {},
   "outputs": [
    {
     "data": {
      "text/plain": [
       "array([ 1., -1.,  0.])"
      ]
     },
     "execution_count": 15,
     "metadata": {},
     "output_type": "execute_result"
    }
   ],
   "source": [
    "# Vector minus\n",
    "import numpy as np\n",
    "a = np.array([1.0, 0.0, 0.0])\n",
    "b = np.array([0.0, 1.0, 0.0])\n",
    "a - b"
   ]
  },
  {
   "cell_type": "code",
   "execution_count": 16,
   "id": "08dedcc4-568a-4382-8f23-24a502f67914",
   "metadata": {},
   "outputs": [
    {
     "data": {
      "text/plain": [
       "array([0., 0., 0.])"
      ]
     },
     "execution_count": 16,
     "metadata": {},
     "output_type": "execute_result"
    }
   ],
   "source": [
    "# Vector multiply\n",
    "import numpy as np\n",
    "a = np.array([1.0, 0.0, 0.0])\n",
    "b = np.array([0.0, 1.0, 0.0])\n",
    "a * b"
   ]
  },
  {
   "cell_type": "code",
   "execution_count": 27,
   "id": "4d27ad42-45a0-47d7-afec-485df84316a4",
   "metadata": {},
   "outputs": [
    {
     "data": {
      "text/plain": [
       "array([0.57735027, 0.57735027, 0.57735027])"
      ]
     },
     "execution_count": 27,
     "metadata": {},
     "output_type": "execute_result"
    }
   ],
   "source": [
    "# Normalize\n",
    "import numpy as np\n",
    "v = np.array([1.0, 1.0, 1.0])\n",
    "v / np.linalg.norm(v)"
   ]
  },
  {
   "cell_type": "code",
   "execution_count": 19,
   "id": "03096469-fa21-4813-b2c1-5a8fdbd102ce",
   "metadata": {},
   "outputs": [
    {
     "data": {
      "text/plain": [
       "array([0.5, 0. , 0. ])"
      ]
     },
     "execution_count": 19,
     "metadata": {},
     "output_type": "execute_result"
    }
   ],
   "source": [
    "# Vector division\n",
    "import numpy as np\n",
    "a = np.array([1.0, 0.0, 0.0])\n",
    "a / 2.0"
   ]
  },
  {
   "cell_type": "code",
   "execution_count": 9,
   "id": "d803341d-58c0-41db-9946-65c3d1eb3964",
   "metadata": {},
   "outputs": [
    {
     "data": {
      "text/plain": [
       "matrix([[1., 1., 1.],\n",
       "        [1., 1., 1.],\n",
       "        [1., 1., 1.]])"
      ]
     },
     "execution_count": 9,
     "metadata": {},
     "output_type": "execute_result"
    }
   ],
   "source": [
    "# Matrix\n",
    "import numpy as np\n",
    "M = np.matrix([[1.0, 1.0, 1.0],[1.0, 1.0, 1.0],[1.0, 1.0, 1.0]])\n",
    "M"
   ]
  },
  {
   "cell_type": "code",
   "execution_count": 10,
   "id": "ec3113c7-4bea-4eb6-a659-e8e505c1440c",
   "metadata": {},
   "outputs": [
    {
     "data": {
      "text/plain": [
       "3.0"
      ]
     },
     "execution_count": 10,
     "metadata": {},
     "output_type": "execute_result"
    }
   ],
   "source": [
    "# L1 norm\n",
    "import numpy as np\n",
    "v = np.array([1.0, 1.0, 1.0])\n",
    "np.linalg.norm(v, 1)"
   ]
  },
  {
   "cell_type": "code",
   "execution_count": 11,
   "id": "2316ed9c-8192-47d7-b877-815b16c80ddb",
   "metadata": {},
   "outputs": [
    {
     "data": {
      "text/plain": [
       "1.7320508075688772"
      ]
     },
     "execution_count": 11,
     "metadata": {},
     "output_type": "execute_result"
    }
   ],
   "source": [
    "# L2 norm\n",
    "import numpy as np\n",
    "v = np.array([1.0, 1.0, 1.0])\n",
    "np.linalg.norm(v, 2)"
   ]
  },
  {
   "cell_type": "code",
   "execution_count": 13,
   "id": "d3497990-5152-4161-a00a-5e59cd40fa55",
   "metadata": {},
   "outputs": [
    {
     "data": {
      "text/plain": [
       "0.0"
      ]
     },
     "execution_count": 13,
     "metadata": {},
     "output_type": "execute_result"
    }
   ],
   "source": [
    "# Dot product\n",
    "import numpy as np\n",
    "a = np.array([1.0, 0.0, 0.0])\n",
    "b = np.array([0.0, 1.0, 0.0])\n",
    "np.dot(a, b)"
   ]
  },
  {
   "cell_type": "code",
   "execution_count": 12,
   "id": "5220e4e4-7df8-476d-8db4-c8cbd2f42394",
   "metadata": {},
   "outputs": [
    {
     "data": {
      "text/plain": [
       "array([0., 0., 1.])"
      ]
     },
     "execution_count": 12,
     "metadata": {},
     "output_type": "execute_result"
    }
   ],
   "source": [
    "# Cross product\n",
    "import numpy as np\n",
    "a = np.array([1.0, 0.0, 0.0])\n",
    "b = np.array([0.0, 1.0, 0.0])\n",
    "np.cross(a, b)"
   ]
  },
  {
   "cell_type": "code",
   "execution_count": 32,
   "id": "f1a94f14-4365-42f9-81d7-f89beb8b4fb9",
   "metadata": {},
   "outputs": [
    {
     "data": {
      "text/plain": [
       "array([[1., 0., 0.],\n",
       "       [0., 1., 0.],\n",
       "       [0., 0., 1.]])"
      ]
     },
     "execution_count": 32,
     "metadata": {},
     "output_type": "execute_result"
    }
   ],
   "source": [
    "# Inverse matrix\n",
    "import numpy as np\n",
    "M = np.eye(3)\n",
    "np.linalg.inv(M)"
   ]
  },
  {
   "cell_type": "code",
   "execution_count": 28,
   "id": "05934be2-c664-43d5-91e6-dc11ef009da1",
   "metadata": {},
   "outputs": [
    {
     "data": {
      "text/plain": [
       "array([[1., 0., 0.],\n",
       "       [0., 1., 0.],\n",
       "       [0., 0., 1.]])"
      ]
     },
     "execution_count": 28,
     "metadata": {},
     "output_type": "execute_result"
    }
   ],
   "source": [
    "# Identity matrix\n",
    "import numpy as np\n",
    "np.eye(3)"
   ]
  },
  {
   "cell_type": "code",
   "execution_count": 33,
   "id": "986e84f2-ed5f-4496-ad5b-dc336d41876e",
   "metadata": {},
   "outputs": [
    {
     "data": {
      "text/plain": [
       "1.0"
      ]
     },
     "execution_count": 33,
     "metadata": {},
     "output_type": "execute_result"
    }
   ],
   "source": [
    "# Determinant\n",
    "import numpy as np\n",
    "M = np.eye(3)\n",
    "np.linalg.det(M)"
   ]
  },
  {
   "cell_type": "code",
   "execution_count": 34,
   "id": "c6242287-6d45-4909-8595-0d7563704b19",
   "metadata": {},
   "outputs": [
    {
     "data": {
      "text/plain": [
       "matrix([[1., 4., 7.],\n",
       "        [2., 5., 8.],\n",
       "        [3., 6., 9.]])"
      ]
     },
     "execution_count": 34,
     "metadata": {},
     "output_type": "execute_result"
    }
   ],
   "source": [
    "# Transpose\n",
    "import numpy as np\n",
    "M = np.matrix([[1.0, 2.0, 3.0],[4.0, 5.0, 6.0],[7.0, 8.0, 9.0]])\n",
    "M.T"
   ]
  },
  {
   "cell_type": "code",
   "execution_count": 52,
   "id": "af1dfb62-3350-485f-9b47-7cdb091f0a29",
   "metadata": {},
   "outputs": [
    {
     "data": {
      "text/plain": [
       "matrix([[-1.,  3.,  1.]])"
      ]
     },
     "execution_count": 52,
     "metadata": {},
     "output_type": "execute_result"
    }
   ],
   "source": [
    "# Affine matrix\n",
    "import math\n",
    "import numpy as np\n",
    "v = np.array([1.0, 1.0, 1.0])\n",
    "TM = np.matrix([[1.0, 0.0, 1.0],[0.0, 1.0, 1.0],[0.0, 0.0, 1.0]])\n",
    "RM = np.matrix([[math.cos(math.radians(90)), -math.sin(math.radians(90)), 0.0],\n",
    "                [math.sin(math.radians(90)), math.cos(math.radians(90)), 0.0],\n",
    "                [0.0, 0.0, 1.0]])\n",
    "SM = np.matrix([[2.0, 0.0, 0.0],[0.0, 2.0, 0.0],[0.0, 0.0, 1.0]])\n",
    "TM @ RM @ SM @ v.T"
   ]
  },
  {
   "cell_type": "code",
   "execution_count": 54,
   "id": "dcd4c976-6bc0-4a71-a8b8-542d27d60bf8",
   "metadata": {},
   "outputs": [
    {
     "data": {
      "text/plain": [
       "matrix([[2., 1., 1.],\n",
       "        [1., 2., 1.],\n",
       "        [1., 1., 2.]])"
      ]
     },
     "execution_count": 54,
     "metadata": {},
     "output_type": "execute_result"
    }
   ],
   "source": [
    "# Matrix add\n",
    "import numpy as np\n",
    "M1 = np.matrix([[1.0, 0.0, 0.0],[0.0, 1.0, 0.0],[0.0, 0.0, 1.0]])\n",
    "M2 = np.matrix([[1.0, 1.0, 1.0],[1.0, 1.0, 1.0],[1.0, 1.0, 1.0]])\n",
    "M1 + M2"
   ]
  },
  {
   "cell_type": "code",
   "execution_count": 55,
   "id": "5d3a3e30-d927-40d0-94c4-d57037b16c40",
   "metadata": {},
   "outputs": [
    {
     "data": {
      "text/plain": [
       "matrix([[ 0., -1., -1.],\n",
       "        [-1.,  0., -1.],\n",
       "        [-1., -1.,  0.]])"
      ]
     },
     "execution_count": 55,
     "metadata": {},
     "output_type": "execute_result"
    }
   ],
   "source": [
    "# Matrix minus\n",
    "import numpy as np\n",
    "M1 = np.matrix([[1.0, 0.0, 0.0],[0.0, 1.0, 0.0],[0.0, 0.0, 1.0]])\n",
    "M2 = np.matrix([[1.0, 1.0, 1.0],[1.0, 1.0, 1.0],[1.0, 1.0, 1.0]])\n",
    "M1 - M2"
   ]
  },
  {
   "cell_type": "code",
   "execution_count": 56,
   "id": "d96f404f-5149-40c7-a6bc-f57fff97a6f8",
   "metadata": {},
   "outputs": [
    {
     "data": {
      "text/plain": [
       "matrix([[1., 1., 1.],\n",
       "        [1., 1., 1.],\n",
       "        [1., 1., 1.]])"
      ]
     },
     "execution_count": 56,
     "metadata": {},
     "output_type": "execute_result"
    }
   ],
   "source": [
    "# Matrix multiply\n",
    "import numpy as np\n",
    "M1 = np.matrix([[1.0, 0.0, 0.0],[0.0, 1.0, 0.0],[0.0, 0.0, 1.0]])\n",
    "M2 = np.matrix([[1.0, 1.0, 1.0],[1.0, 1.0, 1.0],[1.0, 1.0, 1.0]])\n",
    "M1 @ M2"
   ]
  },
  {
   "cell_type": "code",
   "execution_count": 58,
   "id": "43003ba4-402b-47ac-acde-e92a1bad9c7d",
   "metadata": {},
   "outputs": [
    {
     "data": {
      "text/plain": [
       "matrix([[2., 0., 0.],\n",
       "        [0., 2., 0.],\n",
       "        [0., 0., 2.]])"
      ]
     },
     "execution_count": 58,
     "metadata": {},
     "output_type": "execute_result"
    }
   ],
   "source": [
    "# Matrix multiply\n",
    "import numpy as np\n",
    "M = np.matrix([[1.0, 0.0, 0.0],[0.0, 1.0, 0.0],[0.0, 0.0, 1.0]])\n",
    "M * 2.0"
   ]
  },
  {
   "cell_type": "code",
   "execution_count": 59,
   "id": "d5098ada-9265-4cd1-9b44-25dc7461cc5c",
   "metadata": {},
   "outputs": [
    {
     "data": {
      "text/plain": [
       "matrix([[0.5, 0. , 0. ],\n",
       "        [0. , 0.5, 0. ],\n",
       "        [0. , 0. , 0.5]])"
      ]
     },
     "execution_count": 59,
     "metadata": {},
     "output_type": "execute_result"
    }
   ],
   "source": [
    "# Matrix division\n",
    "import numpy as np\n",
    "M = np.matrix([[1.0, 0.0, 0.0],[0.0, 1.0, 0.0],[0.0, 0.0, 1.0]])\n",
    "M / 2.0"
   ]
  },
  {
   "cell_type": "code",
   "execution_count": 60,
   "id": "875e64b4-fab2-49e6-afb8-98d163e14d2f",
   "metadata": {},
   "outputs": [
    {
     "data": {
      "text/plain": [
       "matrix([[1., 1., 1.]])"
      ]
     },
     "execution_count": 60,
     "metadata": {},
     "output_type": "execute_result"
    }
   ],
   "source": [
    "# Matrix * vector\n",
    "import numpy as np\n",
    "M = np.matrix([[1.0, 0.0, 0.0],[0.0, 1.0, 0.0],[0.0, 0.0, 1.0]])\n",
    "v = np.array([1.0, 1.0, 1.0])\n",
    "M @ v"
   ]
  },
  {
   "cell_type": "code",
   "execution_count": 63,
   "id": "a2bcdec0-66ec-497c-bee9-5ff0ea16de9b",
   "metadata": {},
   "outputs": [
    {
     "data": {
      "text/latex": [
       "$\\displaystyle 4.07732635840994$"
      ],
      "text/plain": [
       "4.07732635840994"
      ]
     },
     "execution_count": 63,
     "metadata": {},
     "output_type": "execute_result"
    }
   ],
   "source": [
    "# Integral\n",
    "import sympy\n",
    "sympy.var('x')\n",
    "f = (x + sympy.sin(x)) ** 2\n",
    "sympy.integrate(f, (x, 0, math.pi/2.0))"
   ]
  },
  {
   "cell_type": "code",
   "execution_count": null,
   "id": "49bc5792-bf91-480e-a11a-263e6980aa64",
   "metadata": {},
   "outputs": [],
   "source": []
  }
 ],
 "metadata": {
  "kernelspec": {
   "display_name": "Python 3",
   "language": "python",
   "name": "python3"
  },
  "language_info": {
   "codemirror_mode": {
    "name": "ipython",
    "version": 3
   },
   "file_extension": ".py",
   "mimetype": "text/x-python",
   "name": "python",
   "nbconvert_exporter": "python",
   "pygments_lexer": "ipython3",
   "version": "3.10.6"
  }
 },
 "nbformat": 4,
 "nbformat_minor": 5
}
